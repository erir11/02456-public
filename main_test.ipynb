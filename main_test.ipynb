{
 "cells": [
  {
   "cell_type": "code",
   "execution_count": 1,
   "metadata": {},
   "outputs": [
    {
     "name": "stderr",
     "output_type": "stream",
     "text": [
      "/Users/erikriise/anaconda3/envs/dl_project/lib/python3.11/site-packages/tqdm/auto.py:21: TqdmWarning: IProgress not found. Please update jupyter and ipywidgets. See https://ipywidgets.readthedocs.io/en/stable/user_install.html\n",
      "  from .autonotebook import tqdm as notebook_tqdm\n"
     ]
    }
   ],
   "source": [
    "import torch\n",
    "import pathlib\n",
    "import matplotlib.pyplot as plt\n",
    "from src.make_dataset import DataModule as DM\n",
    "from src.train_model import deeplab, segformer\n",
    "from src.model2 import segformer2\n",
    "from pytorch_lightning import Trainer\n",
    "from src.make_dataset import DeloitteDataSet"
   ]
  },
  {
   "cell_type": "markdown",
   "metadata": {},
   "source": [
    "## Download weights from google drive (about 6.8GB)"
   ]
  },
  {
   "cell_type": "code",
   "execution_count": 11,
   "metadata": {},
   "outputs": [
    {
     "name": "stderr",
     "output_type": "stream",
     "text": [
      "Downloading...\n",
      "From (uriginal): https://drive.google.com/uc?id=1gTbyaXJJHAeHO7BtUSl3zHmX9Ff0dcFG\n",
      "From (redirected): https://drive.google.com/uc?id=1gTbyaXJJHAeHO7BtUSl3zHmX9Ff0dcFG&confirm=t&uuid=ccd620dc-2e20-4d72-a1fc-865022b3c8bf\n",
      "To: /Users/erikriise/Documents/python_projects/02456-dl/weights.zip\n",
      "100%|██████████| 6.81G/6.81G [02:05<00:00, 54.4MB/s]\n"
     ]
    },
    {
     "data": {
      "text/plain": [
       "'weights.zip'"
      ]
     },
     "execution_count": 11,
     "metadata": {},
     "output_type": "execute_result"
    }
   ],
   "source": [
    "import gdown\n",
    "\n",
    "url = \"https://drive.google.com/uc?id=1gTbyaXJJHAeHO7BtUSl3zHmX9Ff0dcFG\"\n",
    "\n",
    "output_file = \"weights.zip\"\n",
    "\n",
    "gdown.download(url, output_file, quiet=False)"
   ]
  },
  {
   "cell_type": "code",
   "execution_count": 12,
   "metadata": {},
   "outputs": [],
   "source": [
    "import zipfile\n",
    "\n",
    "zip_file_path = \"weights.zip\"\n",
    "\n",
    "destination_folder = \"weights\"\n",
    "\n",
    "with zipfile.ZipFile(zip_file_path, \"r\") as zip_ref:\n",
    "    zip_ref.extractall(destination_folder)"
   ]
  },
  {
   "cell_type": "code",
   "execution_count": 2,
   "metadata": {},
   "outputs": [],
   "source": [
    "weights_folder = pathlib.Path(\"weights/weights\")\n",
    "weights_paths = list(weights_folder.glob(\"*\"))\n",
    "weights_paths = [str(path) for path in weights_paths]"
   ]
  },
  {
   "cell_type": "markdown",
   "metadata": {},
   "source": [
    "## Reproducing the results from experiments."
   ]
  },
  {
   "cell_type": "code",
   "execution_count": 3,
   "metadata": {},
   "outputs": [],
   "source": [
    "def test(wts):\n",
    "    if \".DS_Store\" in wts:\n",
    "        return\n",
    "    # if mps is available, use it\n",
    "    if torch.cuda.is_available():\n",
    "        device = \"gpu\"\n",
    "    else:\n",
    "        device = \"cpu\"\n",
    "\n",
    "    if \"syn\" in wts:\n",
    "        print(\"Using synthetic data\")\n",
    "    else:\n",
    "        print(\"Using real data only\")\n",
    "\n",
    "    if \"focal\" in wts:\n",
    "        print(\"Using focal loss\")\n",
    "    elif \"Lovasz\" in wts:\n",
    "        print(\"Using lovasz loss\")\n",
    "    else:\n",
    "        print(\"Using cross entropy loss\")\n",
    "\n",
    "    if \"50\" in wts:\n",
    "        print(\"Using Deeplabv3 resnet50 backbone\")\n",
    "        model = deeplab(learning_rate=3e-4, num_classes=9, backbone=\"resnet50\")\n",
    "    elif \"101\" in wts:\n",
    "        print(\"Using Deeplabv3 resnet101 backbone\")\n",
    "        model = deeplab(learning_rate=3e-4, num_classes=9, backbone=\"resnet101\")\n",
    "    else:\n",
    "        print(\"Using Segformer\")\n",
    "        model = segformer(learning_rate=3e-4, num_classes=9)\n",
    "\n",
    "    if \"more-parts\" in wts:\n",
    "        print(\"Using more parts\")\n",
    "        model = segformer2(learning_rate=3e-4, num_classes=28)\n",
    "\n",
    "    trainer = Trainer(\n",
    "        accelerator=device,\n",
    "    )\n",
    "    batch_size = 32\n",
    "    dm = DM(DeloitteDataSet, batch_size=batch_size, augment=True)\n",
    "    dm.setup()\n",
    "\n",
    "    trainer.test(model, dm, ckpt_path=str(list(pathlib.Path(wts).glob(\"*\"))[0]))"
   ]
  },
  {
   "cell_type": "code",
   "execution_count": 5,
   "metadata": {},
   "outputs": [
    {
     "name": "stdout",
     "output_type": "stream",
     "text": [
      "Using synthetic data\n",
      "Using cross entropy loss\n",
      "Using Segformer\n"
     ]
    },
    {
     "name": "stderr",
     "output_type": "stream",
     "text": [
      "GPU available: True (mps), used: False\n",
      "TPU available: False, using: 0 TPU cores\n",
      "IPU available: False, using: 0 IPUs\n",
      "HPU available: False, using: 0 HPUs\n",
      "Restoring states from the checkpoint path at weights/weights/segformer-with-syn-and-augs/epoch=2-step=1338.ckpt\n",
      "Lightning automatically upgraded your loaded checkpoint from v1.9.0 to v2.1.2. To apply the upgrade to your files permanently, run `python -m pytorch_lightning.utilities.upgrade_checkpoint weights/weights/segformer-with-syn-and-augs/epoch=2-step=1338.ckpt`\n",
      "Loaded model weights from the checkpoint at weights/weights/segformer-with-syn-and-augs/epoch=2-step=1338.ckpt\n"
     ]
    },
    {
     "name": "stdout",
     "output_type": "stream",
     "text": [
      "Testing DataLoader 0: 100%|██████████| 30/30 [01:59<00:00,  0.25it/s]\n",
      "────────────────────────────────────────────────────────────────────────────────────────────────────────────────────────\n",
      "       Test metric             DataLoader 0\n",
      "────────────────────────────────────────────────────────────────────────────────────────────────────────────────────────\n",
      "          Dice              0.8334762141812412\n",
      "       dice Bumper          0.8184349226916948\n",
      "       dice Frame           0.7852013273240552\n",
      "     dice Front door        0.9032969104606394\n",
      "        dice Hood           0.9137620684012436\n",
      "     dice Rear door         0.8570938456666315\n",
      " dice Rear quarter panel    0.6907173373965523\n",
      "     dice Trunk lid         0.8658270873278717\n",
      "          mIoU              0.7206824202597668\n",
      "       mIoU Bumper          0.6926702036219212\n",
      "       mIoU Frame           0.6463633398564905\n",
      "     mIoU Front door        0.8236476390707023\n",
      "        mIoU Hood           0.8412172341066586\n",
      "     mIoU Rear door         0.7499249543953633\n",
      " mIoU Rear quarter panel    0.5275540241425736\n",
      "     mIoU Trunk lid          0.763399546624659\n",
      "────────────────────────────────────────────────────────────────────────────────────────────────────────────────────────\n",
      "Using real data only\n",
      "Using cross entropy loss\n",
      "Using Deeplabv3 resnet50 backbone\n"
     ]
    },
    {
     "name": "stderr",
     "output_type": "stream",
     "text": [
      "GPU available: True (mps), used: False\n",
      "TPU available: False, using: 0 TPU cores\n",
      "IPU available: False, using: 0 IPUs\n",
      "HPU available: False, using: 0 HPUs\n",
      "Restoring states from the checkpoint path at weights/weights/dl50-with-augs/epoch=85-step=602.ckpt\n",
      "Lightning automatically upgraded your loaded checkpoint from v1.9.0 to v2.1.2. To apply the upgrade to your files permanently, run `python -m pytorch_lightning.utilities.upgrade_checkpoint weights/weights/dl50-with-augs/epoch=85-step=602.ckpt`\n",
      "Loaded model weights from the checkpoint at weights/weights/dl50-with-augs/epoch=85-step=602.ckpt\n"
     ]
    },
    {
     "name": "stdout",
     "output_type": "stream",
     "text": [
      "Testing DataLoader 0: 100%|██████████| 30/30 [00:05<00:00,  5.06it/s]\n",
      "────────────────────────────────────────────────────────────────────────────────────────────────────────────────────────\n",
      "       Test metric             DataLoader 0\n",
      "────────────────────────────────────────────────────────────────────────────────────────────────────────────────────────\n",
      "          Dice              0.7913497137038377\n",
      "       dice Bumper          0.7595360473049807\n",
      "       dice Frame           0.7454181864481676\n",
      "     dice Front door         0.887427995391705\n",
      "        dice Hood           0.9076160207664276\n",
      "     dice Rear door          0.803966254847867\n",
      " dice Rear quarter panel    0.6240254024144869\n",
      "     dice Trunk lid         0.8114580887532284\n",
      "          mIoU              0.6633420149600894\n",
      "       mIoU Bumper           0.612299975065636\n",
      "       mIoU Frame           0.5941566969935764\n",
      "     mIoU Front door        0.7976364601265905\n",
      "        mIoU Hood           0.8308580481043123\n",
      "     mIoU Rear door         0.6721936217155847\n",
      " mIoU Rear quarter panel    0.45351520552014074\n",
      "     mIoU Trunk lid         0.6827340971947846\n",
      "────────────────────────────────────────────────────────────────────────────────────────────────────────────────────────\n",
      "Using synthetic data\n",
      "Using focal loss\n",
      "Using Segformer\n"
     ]
    },
    {
     "name": "stderr",
     "output_type": "stream",
     "text": [
      "GPU available: True (mps), used: False\n",
      "TPU available: False, using: 0 TPU cores\n",
      "IPU available: False, using: 0 IPUs\n",
      "HPU available: False, using: 0 HPUs\n",
      "Restoring states from the checkpoint path at weights/weights/segformer-with-augs-and-syn-focal/epoch=1-step=892.ckpt\n",
      "Lightning automatically upgraded your loaded checkpoint from v1.9.0 to v2.1.2. To apply the upgrade to your files permanently, run `python -m pytorch_lightning.utilities.upgrade_checkpoint weights/weights/segformer-with-augs-and-syn-focal/epoch=1-step=892.ckpt`\n",
      "Loaded model weights from the checkpoint at weights/weights/segformer-with-augs-and-syn-focal/epoch=1-step=892.ckpt\n"
     ]
    },
    {
     "name": "stdout",
     "output_type": "stream",
     "text": [
      "Testing DataLoader 0: 100%|██████████| 30/30 [02:00<00:00,  0.25it/s]\n",
      "────────────────────────────────────────────────────────────────────────────────────────────────────────────────────────\n",
      "       Test metric             DataLoader 0\n",
      "────────────────────────────────────────────────────────────────────────────────────────────────────────────────────────\n",
      "          Dice              0.8203943998831063\n",
      "       dice Bumper          0.8181114757597588\n",
      "       dice Frame           0.7647075741670142\n",
      "     dice Front door        0.8987013734918944\n",
      "        dice Hood           0.9142286635514784\n",
      "     dice Rear door         0.8463613967856723\n",
      " dice Rear quarter panel    0.6570876671619613\n",
      "     dice Trunk lid         0.8435626482639638\n",
      "          mIoU              0.7030997584064592\n",
      "       mIoU Bumper          0.6922069712840888\n",
      "       mIoU Frame           0.6190498364396223\n",
      "     mIoU Front door        0.8160378591784977\n",
      "        mIoU Hood           0.8420084716381012\n",
      "     mIoU Rear door         0.7336451765981967\n",
      " mIoU Rear quarter panel    0.48930049348292726\n",
      "     mIoU Trunk lid         0.7294495002237804\n",
      "────────────────────────────────────────────────────────────────────────────────────────────────────────────────────────\n",
      "Using synthetic data\n",
      "Using lovasz loss\n",
      "Using Segformer\n"
     ]
    },
    {
     "name": "stderr",
     "output_type": "stream",
     "text": [
      "GPU available: True (mps), used: False\n",
      "TPU available: False, using: 0 TPU cores\n",
      "IPU available: False, using: 0 IPUs\n",
      "HPU available: False, using: 0 HPUs\n",
      "Restoring states from the checkpoint path at weights/weights/segformer-with-augs-and-syn-LovaszSoftmaxLoss/epoch=11-step=5352.ckpt\n",
      "Lightning automatically upgraded your loaded checkpoint from v1.9.0 to v2.1.2. To apply the upgrade to your files permanently, run `python -m pytorch_lightning.utilities.upgrade_checkpoint weights/weights/segformer-with-augs-and-syn-LovaszSoftmaxLoss/epoch=11-step=5352.ckpt`\n",
      "Loaded model weights from the checkpoint at weights/weights/segformer-with-augs-and-syn-LovaszSoftmaxLoss/epoch=11-step=5352.ckpt\n"
     ]
    },
    {
     "name": "stdout",
     "output_type": "stream",
     "text": [
      "Testing DataLoader 0: 100%|██████████| 30/30 [01:58<00:00,  0.25it/s]\n",
      "────────────────────────────────────────────────────────────────────────────────────────────────────────────────────────\n",
      "       Test metric             DataLoader 0\n",
      "────────────────────────────────────────────────────────────────────────────────────────────────────────────────────────\n",
      "          Dice               0.841900744248198\n",
      "       dice Bumper          0.8192845500557605\n",
      "       dice Frame           0.7841510964862854\n",
      "     dice Front door        0.9096258211939446\n",
      "        dice Hood           0.9144735224450655\n",
      "     dice Rear door         0.8527026674662982\n",
      " dice Rear quarter panel     0.703984295923688\n",
      "     dice Trunk lid          0.909083256166344\n",
      "          mIoU              0.7336035826161311\n",
      "       mIoU Bumper          0.6938882269173763\n",
      "       mIoU Frame           0.6449412375338301\n",
      "     mIoU Front door        0.8342327238434537\n",
      "        mIoU Hood            0.842423967865664\n",
      "     mIoU Rear door         0.7432272727272727\n",
      " mIoU Rear quarter panel    0.5431911771666588\n",
      "     mIoU Trunk lid         0.8333204722586619\n",
      "────────────────────────────────────────────────────────────────────────────────────────────────────────────────────────\n",
      "Using real data only\n",
      "Using cross entropy loss\n",
      "Using Deeplabv3 resnet101 backbone\n"
     ]
    },
    {
     "name": "stderr",
     "output_type": "stream",
     "text": [
      "GPU available: True (mps), used: False\n",
      "TPU available: False, using: 0 TPU cores\n",
      "IPU available: False, using: 0 IPUs\n",
      "HPU available: False, using: 0 HPUs\n",
      "Restoring states from the checkpoint path at weights/weights/dl101-with-augs/epoch=71-step=504.ckpt\n",
      "Lightning automatically upgraded your loaded checkpoint from v1.9.0 to v2.1.2. To apply the upgrade to your files permanently, run `python -m pytorch_lightning.utilities.upgrade_checkpoint weights/weights/dl101-with-augs/epoch=71-step=504.ckpt`\n",
      "Loaded model weights from the checkpoint at weights/weights/dl101-with-augs/epoch=71-step=504.ckpt\n"
     ]
    },
    {
     "name": "stdout",
     "output_type": "stream",
     "text": [
      "Testing DataLoader 0: 100%|██████████| 30/30 [00:08<00:00,  3.69it/s]\n",
      "────────────────────────────────────────────────────────────────────────────────────────────────────────────────────────\n",
      "       Test metric             DataLoader 0\n",
      "────────────────────────────────────────────────────────────────────────────────────────────────────────────────────────\n",
      "          Dice              0.7998529752025979\n",
      "       dice Bumper          0.7789181346412326\n",
      "       dice Frame            0.74172283534553\n",
      "     dice Front door        0.8942547876769359\n",
      "        dice Hood           0.8983695472434434\n",
      "     dice Rear door         0.8216532362880167\n",
      " dice Rear quarter panel    0.6212516507230973\n",
      "     dice Trunk lid         0.8428006344999297\n",
      "          mIoU              0.6753982100297344\n",
      "       mIoU Bumper          0.6378918209651553\n",
      "       mIoU Frame           0.5894749234753944\n",
      "     mIoU Front door        0.8087349397590361\n",
      "        mIoU Hood           0.8154908435905134\n",
      "     mIoU Rear door          0.697293243034568\n",
      " mIoU Rear quarter panel    0.45059103863944305\n",
      "     mIoU Trunk lid         0.7283106607440311\n",
      "────────────────────────────────────────────────────────────────────────────────────────────────────────────────────────\n",
      "Using synthetic data\n",
      "Using focal loss\n",
      "Using Segformer\n",
      "Using more parts\n"
     ]
    },
    {
     "name": "stderr",
     "output_type": "stream",
     "text": [
      "GPU available: True (mps), used: False\n",
      "TPU available: False, using: 0 TPU cores\n",
      "IPU available: False, using: 0 IPUs\n",
      "HPU available: False, using: 0 HPUs\n",
      "Restoring states from the checkpoint path at weights/weights/segformer-with-augs-and-syn-focal-and-more-parts/weights_seg.ckpt\n",
      "Lightning automatically upgraded your loaded checkpoint from v1.9.0 to v2.1.2. To apply the upgrade to your files permanently, run `python -m pytorch_lightning.utilities.upgrade_checkpoint weights/weights/segformer-with-augs-and-syn-focal-and-more-parts/weights_seg.ckpt`\n",
      "Loaded model weights from the checkpoint at weights/weights/segformer-with-augs-and-syn-focal-and-more-parts/weights_seg.ckpt\n"
     ]
    },
    {
     "name": "stdout",
     "output_type": "stream",
     "text": [
      "Testing DataLoader 0: 100%|██████████| 30/30 [01:58<00:00,  0.25it/s]\n",
      "────────────────────────────────────────────────────────────────────────────────────────────────────────────────────────\n",
      "       Test metric             DataLoader 0\n",
      "────────────────────────────────────────────────────────────────────────────────────────────────────────────────────────\n",
      "          Dice              0.7156205256033857\n",
      "       dice Bumper          0.7140239938537911\n",
      "       dice Frame           0.6416895537169145\n",
      "     dice Front door        0.8498458154379468\n",
      "        dice Hood           0.8654431125957949\n",
      "     dice Rear door         0.7049923038945198\n",
      " dice Rear quarter panel    0.5521633384536611\n",
      "     dice Trunk lid         0.6811855612710713\n",
      "          mIoU              0.5673762422143829\n",
      "       mIoU Bumper          0.5552389705882353\n",
      "       mIoU Frame           0.4724174473316095\n",
      "     mIoU Front door        0.7388972946801429\n",
      "        mIoU Hood           0.7628027489885274\n",
      "     mIoU Rear door          0.544392366172546\n",
      " mIoU Rear quarter panel    0.3813712921621502\n",
      "     mIoU Trunk lid         0.5165135755774686\n",
      "────────────────────────────────────────────────────────────────────────────────────────────────────────────────────────\n",
      "Using real data only\n",
      "Using cross entropy loss\n",
      "Using Segformer\n"
     ]
    },
    {
     "name": "stderr",
     "output_type": "stream",
     "text": [
      "GPU available: True (mps), used: False\n",
      "TPU available: False, using: 0 TPU cores\n",
      "IPU available: False, using: 0 IPUs\n",
      "HPU available: False, using: 0 HPUs\n",
      "Restoring states from the checkpoint path at weights/weights/segformer-with-augs/epoch=36-step=259.ckpt\n",
      "Lightning automatically upgraded your loaded checkpoint from v1.9.0 to v2.1.2. To apply the upgrade to your files permanently, run `python -m pytorch_lightning.utilities.upgrade_checkpoint weights/weights/segformer-with-augs/epoch=36-step=259.ckpt`\n",
      "Loaded model weights from the checkpoint at weights/weights/segformer-with-augs/epoch=36-step=259.ckpt\n"
     ]
    },
    {
     "name": "stdout",
     "output_type": "stream",
     "text": [
      "Testing DataLoader 0: 100%|██████████| 30/30 [01:56<00:00,  0.26it/s]\n",
      "────────────────────────────────────────────────────────────────────────────────────────────────────────────────────────\n",
      "       Test metric             DataLoader 0\n",
      "────────────────────────────────────────────────────────────────────────────────────────────────────────────────────────\n",
      "          Dice              0.8031979572886441\n",
      "       dice Bumper          0.8068027210884354\n",
      "       dice Frame           0.7492144136736072\n",
      "     dice Front door        0.8846097674962028\n",
      "        dice Hood           0.9058025746798251\n",
      "     dice Rear door         0.8126593987446317\n",
      " dice Rear quarter panel    0.6174449749621521\n",
      "     dice Trunk lid         0.8458518503756551\n",
      "          mIoU              0.6799993457378808\n",
      "       mIoU Bumper          0.6761687571265679\n",
      "       mIoU Frame           0.5989950810626783\n",
      "     mIoU Front door        0.7930944181844369\n",
      "        mIoU Hood           0.8278237123568232\n",
      "     mIoU Rear door         0.6844366291234475\n",
      " mIoU Rear quarter panel    0.44659703504043125\n",
      "     mIoU Trunk lid         0.7328797872707808\n",
      "────────────────────────────────────────────────────────────────────────────────────────────────────────────────────────\n",
      "Using synthetic data\n",
      "Using cross entropy loss\n",
      "Using Deeplabv3 resnet50 backbone\n"
     ]
    },
    {
     "name": "stderr",
     "output_type": "stream",
     "text": [
      "GPU available: True (mps), used: False\n",
      "TPU available: False, using: 0 TPU cores\n",
      "IPU available: False, using: 0 IPUs\n",
      "HPU available: False, using: 0 HPUs\n",
      "Restoring states from the checkpoint path at weights/weights/dl50-with-syn-and-augs/epoch=11-step=2676.ckpt\n",
      "Lightning automatically upgraded your loaded checkpoint from v1.9.0 to v2.1.2. To apply the upgrade to your files permanently, run `python -m pytorch_lightning.utilities.upgrade_checkpoint weights/weights/dl50-with-syn-and-augs/epoch=11-step=2676.ckpt`\n",
      "Loaded model weights from the checkpoint at weights/weights/dl50-with-syn-and-augs/epoch=11-step=2676.ckpt\n"
     ]
    },
    {
     "name": "stdout",
     "output_type": "stream",
     "text": [
      "Testing DataLoader 0: 100%|██████████| 30/30 [00:06<00:00,  4.99it/s]\n",
      "────────────────────────────────────────────────────────────────────────────────────────────────────────────────────────\n",
      "       Test metric             DataLoader 0\n",
      "────────────────────────────────────────────────────────────────────────────────────────────────────────────────────────\n",
      "          Dice              0.8249009888825408\n",
      "       dice Bumper          0.7459789392647989\n",
      "       dice Frame           0.7663060369707105\n",
      "     dice Front door        0.9086864529592488\n",
      "        dice Hood           0.9138923427837387\n",
      "     dice Rear door         0.8534124473952479\n",
      " dice Rear quarter panel    0.7061759576643214\n",
      "     dice Trunk lid         0.8798547451397193\n",
      "          mIoU              0.7093862093380696\n",
      "       mIoU Bumper          0.5948695461521596\n",
      "       mIoU Frame           0.6211475940832804\n",
      "     mIoU Front door         0.832653874244738\n",
      "        mIoU Hood           0.8414380809413334\n",
      "     mIoU Rear door         0.7443063946198564\n",
      " mIoU Rear quarter panel     0.545805252149663\n",
      "     mIoU Trunk lid         0.7854827231754566\n",
      "────────────────────────────────────────────────────────────────────────────────────────────────────────────────────────\n",
      "Using synthetic data\n",
      "Using cross entropy loss\n",
      "Using Deeplabv3 resnet101 backbone\n"
     ]
    },
    {
     "name": "stderr",
     "output_type": "stream",
     "text": [
      "GPU available: True (mps), used: False\n",
      "TPU available: False, using: 0 TPU cores\n",
      "IPU available: False, using: 0 IPUs\n",
      "HPU available: False, using: 0 HPUs\n",
      "Restoring states from the checkpoint path at weights/weights/dl101-with-syn-and-augs/epoch=11-step=5352.ckpt\n",
      "Lightning automatically upgraded your loaded checkpoint from v1.9.0 to v2.1.2. To apply the upgrade to your files permanently, run `python -m pytorch_lightning.utilities.upgrade_checkpoint weights/weights/dl101-with-syn-and-augs/epoch=11-step=5352.ckpt`\n",
      "Loaded model weights from the checkpoint at weights/weights/dl101-with-syn-and-augs/epoch=11-step=5352.ckpt\n"
     ]
    },
    {
     "name": "stdout",
     "output_type": "stream",
     "text": [
      "Testing DataLoader 0: 100%|██████████| 30/30 [00:07<00:00,  3.80it/s]\n",
      "────────────────────────────────────────────────────────────────────────────────────────────────────────────────────────\n",
      "       Test metric             DataLoader 0\n",
      "────────────────────────────────────────────────────────────────────────────────────────────────────────────────────────\n",
      "          Dice              0.8309991654095731\n",
      "       dice Bumper          0.7698048911483364\n",
      "       dice Frame            0.784688995215311\n",
      "     dice Front door        0.9136889436849549\n",
      "        dice Hood           0.9232410076042532\n",
      "     dice Rear door         0.8576726574859307\n",
      " dice Rear quarter panel    0.6772106398274622\n",
      "     dice Trunk lid         0.8906870229007634\n",
      "          mIoU               0.719376096362512\n",
      "       mIoU Bumper          0.6257583741061348\n",
      "       mIoU Frame           0.6456692913385826\n",
      "     mIoU Front door        0.8410932930981534\n",
      "        mIoU Hood            0.85742586235577\n",
      "     mIoU Rear door         0.7508116330283561\n",
      " mIoU Rear quarter panel    0.5119565217391304\n",
      "     mIoU Trunk lid         0.8029176988714561\n",
      "────────────────────────────────────────────────────────────────────────────────────────────────────────────────────────\n"
     ]
    }
   ],
   "source": [
    "for wts in weights_paths:\n",
    "    test(wts)"
   ]
  },
  {
   "cell_type": "code",
   "execution_count": null,
   "metadata": {},
   "outputs": [],
   "source": []
  }
 ],
 "metadata": {
  "kernelspec": {
   "display_name": "dl_project",
   "language": "python",
   "name": "python3"
  },
  "language_info": {
   "codemirror_mode": {
    "name": "ipython",
    "version": 3
   },
   "file_extension": ".py",
   "mimetype": "text/x-python",
   "name": "python",
   "nbconvert_exporter": "python",
   "pygments_lexer": "ipython3",
   "version": "3.11.5"
  }
 },
 "nbformat": 4,
 "nbformat_minor": 2
}
